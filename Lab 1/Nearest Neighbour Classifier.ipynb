{
 "cells": [
  {
   "cell_type": "markdown",
   "metadata": {},
   "source": [
    "# Nearest Neighbour Classifier\n",
    "***\n",
    "Among the various methods of supervised statistical pattern recognition, the Nearest Neighbour rule achieves consistently high performance, without a-priori assumptions about the distributions from which the training examples are drawn. A new sample is classified by calculating the distance to the nearest training case.\n",
    "\n",
    "This classifier is very rarely used in practice, but it will allow us to get an idea about the basic approach to an image classification problem.\n",
    "\n",
    "### Problem 1: Classifying Points\n",
    "***\n",
    "Given some data points (in 2D space) with their color labels, design a NN classifier to assign a color label to the test point.\n",
    "\n",
    "Given data points:\n",
    "\n",
    "|Sno| Coordinates| Color|\n",
    "|:---:| :----------: | :----: |\n",
    "|1. | (1, 1)     | red  |\n",
    "|2. | (2, 2.5)   | red  |\n",
    "|3. | (3, 1.2)   | red  |\n",
    "|4. | (5.5, 6.3) | blue |\n",
    "|5. | (6, 9)     | blue |\n",
    "|6. | (7, 6)     | blue |\n",
    "\n",
    "Test data:\n",
    "\n",
    "|Sno| Coordinates| Color| True Value |\n",
    "|:---:| :----------: | :----: |:----:|\n",
    "|1.   | (3, 4)       | ?      | red|\n",
    "\n",
    "\n",
    "\n",
    "\n",
    "\n"
   ]
  },
  {
   "cell_type": "code",
   "execution_count": 2,
   "metadata": {},
   "outputs": [
    {
     "data": {
      "image/png": "[encoded data removed]",
      "text/plain": [
       "<matplotlib.figure.Figure at 0x7f962b0a3b00>"
      ]
     },
     "metadata": {},
     "output_type": "display_data"
    },
    {
     "name": "stdout",
     "output_type": "stream",
     "text": [
      "The test data point belongs to class with color:  red\n"
     ]
    }
   ],
   "source": [
    "import numpy as np\n",
    "import matplotlib.pyplot as plt\n",
    "\n",
    "# define training data\n",
    "training_data = np.array([[1,1], [2,2.5], [3,1.2], [5.5,6.3], [6,9], [7,6]])\n",
    "training_labels = ['red', 'red', 'red', 'blue', 'blue', 'blue']\n",
    "\n",
    "# define test data\n",
    "test_data = [3, 4]\n",
    "\n",
    "# Plot the training and test points\n",
    "plt.figure()\n",
    "plt.scatter(training_data[:, 0], training_data[:, 1], color = training_labels[:], s = 170)\n",
    "plt.scatter(test_data[0], test_data[1], color = 'green', s = 170)\n",
    "plt.xlabel('X-axis')\n",
    "plt.ylabel('Y-axis')\n",
    "plt.title('Data Points')\n",
    "plt.show()\n",
    "\n",
    "# define distance function\n",
    "# L2 distance\n",
    "def distance(a, b):\n",
    "    return np.sqrt(np.sum((a - b)**2))\n",
    "\n",
    "# Calculate the distance of test point from all the given data points\n",
    "num = len(training_data)\n",
    "dist = np.zeros(num)\n",
    "for i in range(num):\n",
    "    dist[i] = distance(test_data, training_data[i])\n",
    "\n",
    "# Select the label of data point with minimum distance from test point\n",
    "index = np.argmin(distance)\n",
    "print('The test data point belongs to class with color: ', training_labels[index])"
   ]
  },
  {
   "cell_type": "markdown",
   "metadata": {},
   "source": [
    "### Problem 2: Classifying Images:\n",
    "***\n",
    "Design a NN classifier to correctly identify digits from a dataset of tens of thousands of handwritten images.\n",
    "Define two cases with different number of data values for training the model and output the accuracy of the model in each case.\n",
    "\n",
    "**Given**: Use the [Digit dataset](http://scikit-learn.org/stable/auto_examples/datasets/plot_digits_last_image.html) : Sklearn is a Python modules for machine learning. This module comes with a few standard datasets, such as the digits dataset. This dataset is made up of 1797 8x8 images and contains two arrays _digits.images_ and _digits.target_.\n",
    "\n",
    "Case 1: 100 data vales as training data <br>\n",
    "Case 2: 1000 data values as training data"
   ]
  },
  {
   "cell_type": "code",
   "execution_count": 2,
   "metadata": {
    "scrolled": true
   },
   "outputs": [
    {
     "data": {
      "image/png": "[encoded data removed]",
      "text/plain": [
       "<matplotlib.figure.Figure at 0x7f302025ca20>"
      ]
     },
     "metadata": {},
     "output_type": "display_data"
    },
    {
     "name": "stdout",
     "output_type": "stream",
     "text": [
      "0\n"
     ]
    }
   ],
   "source": [
    "import numpy as np\n",
    "import matplotlib.pyplot as plt\n",
    "\n",
    "from sklearn import datasets\n",
    "digits = datasets.load_digits()\n",
    "\n",
    "# plot the first digit and print it's target value\n",
    "plt.figure()\n",
    "plt.imshow(digits.images[0], cmap = plt.cm.gray_r, interpolation = 'nearest')\n",
    "plt.show()\n",
    "print(digits.target[0])"
   ]
  },
  {
   "cell_type": "code",
   "execution_count": 3,
   "metadata": {
    "collapsed": true
   },
   "outputs": [],
   "source": [
    "# define the distance function\n",
    "# L2 distance\n",
    "def distance(a, b):\n",
    "    return np.sqrt(np.sum((a - b)**2))\n",
    "\n",
    "# define an accuracy function\n",
    "def accuracy(e, total = 100):\n",
    "    return str(100 - ((e / total) * 100)) + ' %'"
   ]
  },
  {
   "cell_type": "code",
   "execution_count": 4,
   "metadata": {
    "scrolled": true
   },
   "outputs": [
    {
     "name": "stdout",
     "output_type": "stream",
     "text": [
      "Accuracy: 86.0 %\n"
     ]
    }
   ],
   "source": [
    "# use first 100 images as training data\n",
    "training_data = digits.data[0:100]\n",
    "training_labels = digits.target[0:100]\n",
    "\n",
    "# define a distance vector and error count\n",
    "num = len(training_data)\n",
    "dist = np.zeros(num)\n",
    "errors = 0\n",
    "\n",
    "# use random 100 values as testing data\n",
    "for i in range(1597, 1697):\n",
    "    test_data = digits.data[i]\n",
    "    for j in range(num):\n",
    "        dist[j] = distance(test_data, training_data[j])\n",
    "    index = np.argmin(dist)\n",
    "    label = training_labels[index]\n",
    "    if label != digits.target[i]:\n",
    "        errors += 1\n",
    "\n",
    "print('Accuracy: {}'.format(accuracy(errors)))"
   ]
  },
  {
   "cell_type": "markdown",
   "metadata": {},
   "source": [
    "Increasing the training data set from 100 data values to 1000 data values:"
   ]
  },
  {
   "cell_type": "code",
   "execution_count": 5,
   "metadata": {},
   "outputs": [
    {
     "name": "stdout",
     "output_type": "stream",
     "text": [
      "Accuracy: 91.0 %\n"
     ]
    }
   ],
   "source": [
    "# use first 1000 images as training data\n",
    "training_data = digits.data[0:1000]\n",
    "training_labels = digits.target[0:1000]\n",
    "\n",
    "# define a distance vector and error count\n",
    "num = len(training_data)\n",
    "dist = np.zeros(num)\n",
    "errors = 0\n",
    "\n",
    "# use random 100 values as testing data\n",
    "for i in range(1597, 1697):\n",
    "    test_data = digits.data[i]\n",
    "    for j in range(num):\n",
    "        dist[j] = distance(test_data, training_data[j])\n",
    "    index = np.argmin(dist)\n",
    "    label = training_labels[index]\n",
    "    if label != digits.target[i]:\n",
    "        errors += 1\n",
    "\n",
    "print('Accuracy: {}'.format(accuracy(errors)))"
   ]
  }
 ],
 "metadata": {
  "kernelspec": {
   "display_name": "Python 3",
   "language": "python",
   "name": "python3"
  },
  "language_info": {
   "codemirror_mode": {
    "name": "ipython",
    "version": 3
   },
   "file_extension": ".py",
   "mimetype": "text/x-python",
   "name": "python",
   "nbconvert_exporter": "python",
   "pygments_lexer": "ipython3",
   "version": "3.5.2"
  }
 },
 "nbformat": 4,
 "nbformat_minor": 2
}
