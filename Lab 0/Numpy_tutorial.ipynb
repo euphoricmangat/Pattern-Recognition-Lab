{
 "cells": [
  {
   "cell_type": "markdown",
   "metadata": {},
   "source": [
    "# NUMPY\n",
    "***\n",
    "[Numpy](http://www.numpy.org/) is the core library for scientific computing in Python. It provides a high-performance multidimensional array object, and tools for working with these objects."
   ]
  },
  {
   "cell_type": "markdown",
   "metadata": {},
   "source": [
    "## ARRAYS\n",
    "***\n",
    "A numpy array is a grid of values, all of the same type, and is indexed by a tuple of non-negative values. The number of dimensions is the _rank_ of the array; the _shape_ of an array is a tuple of integers giving the size of array along each dimension.\n",
    "\n",
    "We can initialize numpy arrays from nested Python lists and access elements using square brackets:"
   ]
  },
  {
   "cell_type": "code",
   "execution_count": 1,
   "metadata": {},
   "outputs": [
    {
     "name": "stdout",
     "output_type": "stream",
     "text": [
      "<class 'numpy.ndarray'>\n",
      "(3,)\n",
      "1 2 3\n",
      "[1 2 3]\n",
      "<class 'numpy.ndarray'>\n",
      "(2, 3)\n",
      "[[1 2 3]\n",
      " [4 5 6]]\n"
     ]
    }
   ],
   "source": [
    "import numpy as np\n",
    "\n",
    "a = np.array([1,2,3])\n",
    "print(type(a))\n",
    "print(a.shape)\n",
    "print(a[0], a[1], a[2])\n",
    "print(a)\n",
    "\n",
    "b = np.array([[1,2,3],[4,5,6]])\n",
    "print(type(b))\n",
    "print(b.shape)\n",
    "# print(b[0,0], b[0,1], b[1,0])\n",
    "print(b)"
   ]
  },
  {
   "cell_type": "markdown",
   "metadata": {},
   "source": [
    "numpy also provides many functions to create arrays:"
   ]
  },
  {
   "cell_type": "code",
   "execution_count": 2,
   "metadata": {},
   "outputs": [
    {
     "name": "stdout",
     "output_type": "stream",
     "text": [
      "[[ 0.  0.]\n",
      " [ 0.  0.]]\n",
      "------------------------------\n",
      "[[ 1.  1.]]\n",
      "------------------------------\n",
      "[[7 7]\n",
      " [7 7]]\n",
      "------------------------------\n",
      "[[ 1.  0.  0.]\n",
      " [ 0.  1.  0.]\n",
      " [ 0.  0.  1.]]\n",
      "------------------------------\n",
      "[[ 0.69263324  0.05190129]\n",
      " [ 0.95022762  0.93651825]]\n",
      "------------------------------\n"
     ]
    }
   ],
   "source": [
    "# create an array of all zeros\n",
    "c = np.zeros((2,2))\n",
    "print(c, end='\\n------------------------------\\n')\n",
    "\n",
    "# create an array of all ones\n",
    "d = np.ones((1,2))\n",
    "print(d, end='\\n------------------------------\\n')\n",
    "\n",
    "# create a constant array\n",
    "e = np.full((2,2),7, np.int) #providing dtype to supress future warning\n",
    "print(e, end='\\n------------------------------\\n')\n",
    "\n",
    "# create a 3x3 identity matrix\n",
    "f = np.eye(3,3)\n",
    "print(f, end='\\n------------------------------\\n')\n",
    "\n",
    "# create an array filled with random values\n",
    "g = np.random.random((2,2))\n",
    "print(g, end='\\n------------------------------\\n')"
   ]
  },
  {
   "cell_type": "markdown",
   "metadata": {},
   "source": [
    "## Array Indexing\n",
    "***\n",
    "\n",
    "Numpy offers several ways to index into arrays.\n",
    "\n",
    "**Slicing**: Similar to Python lists, numpy arrays can be sliced. Since arrays are multidimensional, you must specify a slice for each dimension of the array:"
   ]
  },
  {
   "cell_type": "code",
   "execution_count": 3,
   "metadata": {},
   "outputs": [
    {
     "name": "stdout",
     "output_type": "stream",
     "text": [
      "[[2 3]\n",
      " [6 7]]\n",
      "------------------------------\n",
      "2\n",
      "------------------------------\n",
      "77\n",
      "------------------------------\n"
     ]
    }
   ],
   "source": [
    "# create a 2-dimensional array with shape(3,4)\n",
    "a = np.array([[1,2,3,4], [5,6,7,8], [9,10,11,12]])\n",
    "\n",
    "# use slicing to pull out sub-array consisting of first two rows\n",
    "# and columns one and two\n",
    "# b is an array of shape(2,2)\n",
    "b = a[:2, 1:3]\n",
    "print(b, end='\\n------------------------------\\n')\n",
    "\n",
    "# a slice of an array is a view into the same data\n",
    "# modifying it will modify the original array\n",
    "print(a[0,1], end='\\n------------------------------\\n')\n",
    "b[0,0] = 77\n",
    "print(a[0,1], end='\\n------------------------------\\n')"
   ]
  },
  {
   "cell_type": "markdown",
   "metadata": {
    "collapsed": true
   },
   "source": [
    "We can also mix integer indexing with slice indexing. However, doing so will yield an array of lower rank than the original array."
   ]
  },
  {
   "cell_type": "code",
   "execution_count": 4,
   "metadata": {},
   "outputs": [
    {
     "name": "stdout",
     "output_type": "stream",
     "text": [
      "[5 6 7 8] (4,) \n",
      "\n",
      "[[5 6 7 8]] (1, 4) \n",
      "\n",
      "[77  6 10] (3,) \n",
      "\n",
      "[[77]\n",
      " [ 6]\n",
      " [10]] (3, 1) \n",
      "\n"
     ]
    }
   ],
   "source": [
    "# two ways of accessing the data in the middle row of the array.\n",
    "# mixing integer indeixng with slices yields an array of lower rank.\n",
    "# while using only slices yields an array of the same rank as the original array.\n",
    "\n",
    "# rank 1 view of second row of array a\n",
    "row_r1 = a[1, :]\n",
    "# rank 2 view of second row of array a\n",
    "row_r2 = a[1:2,:]\n",
    "\n",
    "print(row_r1, row_r1.shape, '\\n')\n",
    "print(row_r2, row_r2.shape, '\\n')\n",
    "\n",
    "# making same distinction when accessing columns of an array\n",
    "col_c1 = a[:, 1]\n",
    "col_c2 = a[:, 1:2]\n",
    "\n",
    "print(col_c1, col_c1.shape, '\\n')\n",
    "print(col_c2, col_c2.shape, '\\n')"
   ]
  },
  {
   "cell_type": "markdown",
   "metadata": {},
   "source": [
    "**Integer array indexing**: When we index into numpy arrays using slicing, the resulting array view will always be a sub-array of the original array. In contrast, integer array indexing allows us to create arbitrary arrays using data from another array."
   ]
  },
  {
   "cell_type": "code",
   "execution_count": 5,
   "metadata": {},
   "outputs": [
    {
     "name": "stdout",
     "output_type": "stream",
     "text": [
      "[1 4 5]\n",
      "[1 4 5]\n",
      "[2 2]\n",
      "[2 2]\n"
     ]
    }
   ],
   "source": [
    "a = np.array([[1,2], [3,4], [5,6]])\n",
    "\n",
    "print(a[[0, 1, 2], [0, 1, 0]])\n",
    "# the above example of integer array indexing is similar to:\n",
    "print(np.array([a[0,0], a[1,1], a[2,0]]))\n",
    "\n",
    "# when using integer array indexing we can reuse the same element from source array\n",
    "print(a[[0,0], [1,1]])\n",
    "# the above example is similar to:\n",
    "print(np.array([a[0, 1], a[0, 1]]))"
   ]
  },
  {
   "cell_type": "markdown",
   "metadata": {},
   "source": [
    "One useful trick with integer array indexing is selecting or mutating one element from each row of a matrix"
   ]
  },
  {
   "cell_type": "code",
   "execution_count": 6,
   "metadata": {},
   "outputs": [
    {
     "name": "stdout",
     "output_type": "stream",
     "text": [
      "[[ 1  2  3]\n",
      " [ 4  5  6]\n",
      " [ 7  8  9]\n",
      " [10 11 12]] \n",
      "\n",
      "[ 1  6  7 11] \n",
      "\n",
      "[[11  2  3]\n",
      " [ 4  5 16]\n",
      " [17  8  9]\n",
      " [10 21 12]]\n"
     ]
    }
   ],
   "source": [
    "a = np.array([[1,2,3], [4,5,6], [7,8,9], [10,11,12]])\n",
    "print(a,'\\n')\n",
    "\n",
    "# create an array of indices\n",
    "b = np.array([0,2,0,1])\n",
    "\n",
    "# select one element from each row using the indices in b\n",
    "print(a[np.arange(4), b], '\\n')\n",
    "\n",
    "# mutate one element from each row using the indices in b\n",
    "a[np.arange(4), b] += 10\n",
    "print(a)"
   ]
  },
  {
   "cell_type": "markdown",
   "metadata": {},
   "source": [
    "**Boolean array indexing**: Boolean array indexing allows us to pick out arbitrary elements of an array. Frequently this type of indexing is used to select the elements of an array that staisfy some condition."
   ]
  },
  {
   "cell_type": "code",
   "execution_count": 7,
   "metadata": {},
   "outputs": [
    {
     "name": "stdout",
     "output_type": "stream",
     "text": [
      "[[ True False  True]\n",
      " [ True  True  True]\n",
      " [ True  True  True]\n",
      " [ True  True  True]]\n",
      "[11  3  4  5 16 17  8  9 10 21 12]\n",
      "[11  3  4  5 16 17  8  9 10 21 12]\n"
     ]
    }
   ],
   "source": [
    "# find elements of a that are bigger than 2;\n",
    "# this returns a numpy array of booleans of the same shape as a, where each slot of bool_idx tells whether that \n",
    "# element of a is greater than 2\n",
    "bool_idx = (a > 2)\n",
    "print(bool_idx)\n",
    "\n",
    "# we use boolean array indexing to construct a rank 1 array\n",
    "# consisting of the elements of a corresponding to the true values of bool_idx\n",
    "print(a[bool_idx])\n",
    "\n",
    "# the above can be done in a single concise statement as:\n",
    "print(a[a > 2])"
   ]
  },
  {
   "cell_type": "markdown",
   "metadata": {},
   "source": [
    "## Datatypes\n",
    "***\n",
    "\n",
    "Every numpy array is a grid of elements of the same type. Numpy provides a large set of numeric datatypes that can be used to construct arrays. Numpy tries to guess the datatype when we create an array, but functions used to construct arrays also include an optional argument to explictly specify the datatypes."
   ]
  },
  {
   "cell_type": "code",
   "execution_count": 8,
   "metadata": {},
   "outputs": [
    {
     "name": "stdout",
     "output_type": "stream",
     "text": [
      "int64\n",
      "float64\n",
      "int32\n"
     ]
    }
   ],
   "source": [
    "x = np.array([1,2])\n",
    "print(x.dtype)\n",
    "\n",
    "x = np.array([1.0, 2.0])\n",
    "print(x.dtype)\n",
    "\n",
    "x = np.array([1,2], dtype=np.int32)\n",
    "print(x.dtype)"
   ]
  },
  {
   "cell_type": "markdown",
   "metadata": {
    "collapsed": true
   },
   "source": [
    "## Array Math\n",
    "***\n",
    "Basic mathematical functions work elementwise on arrays and are available both as operator overloads and as functions in numpy module:"
   ]
  },
  {
   "cell_type": "code",
   "execution_count": 9,
   "metadata": {},
   "outputs": [
    {
     "name": "stdout",
     "output_type": "stream",
     "text": [
      "[[  6.   8.]\n",
      " [ 10.  12.]] \n",
      "\n",
      "[[  6.   8.]\n",
      " [ 10.  12.]] \n",
      "\n",
      "[[-4. -4.]\n",
      " [-4. -4.]] \n",
      "\n",
      "[[-4. -4.]\n",
      " [-4. -4.]] \n",
      "\n",
      "[[  5.  12.]\n",
      " [ 21.  32.]] \n",
      "\n",
      "[[  5.  12.]\n",
      " [ 21.  32.]] \n",
      "\n",
      "[[ 0.2         0.33333333]\n",
      " [ 0.42857143  0.5       ]] \n",
      "\n",
      "[[ 0.2         0.33333333]\n",
      " [ 0.42857143  0.5       ]] \n",
      "\n",
      "[[ 1.          1.41421356]\n",
      " [ 1.73205081  2.        ]] \n",
      "\n"
     ]
    }
   ],
   "source": [
    "x = np.array([[1,2], [3,4]], dtype=np.float64)\n",
    "y = np.array([[5,6], [7,8]], dtype=np.float64)\n",
    "\n",
    "# elementwise sum\n",
    "print(x + y, '\\n')\n",
    "print(np.add(x, y), '\\n')\n",
    "\n",
    "# elementwise difference\n",
    "print(x - y, '\\n')\n",
    "print(np.subtract(x, y), '\\n')\n",
    "\n",
    "# elementwise product\n",
    "print(x * y, '\\n')\n",
    "print(np.multiply(x, y), '\\n')\n",
    "\n",
    "# elementwise division\n",
    "print(x / y, '\\n')\n",
    "print(np.divide(x, y), '\\n')\n",
    "\n",
    "# elementwise squareroot\n",
    "print(np.sqrt(x, y),'\\n')"
   ]
  },
  {
   "cell_type": "markdown",
   "metadata": {},
   "source": [
    "**dot** function is used to compute inner product of vectors, multiply a vector by a matrix and to multiply matrices. dot is available both as a function in the numpy module and as an instance method of array objects."
   ]
  },
  {
   "cell_type": "code",
   "execution_count": 10,
   "metadata": {},
   "outputs": [
    {
     "name": "stdout",
     "output_type": "stream",
     "text": [
      "219 \n",
      "\n",
      "219 \n",
      "\n",
      "[29 67] \n",
      "\n",
      "[29 67] \n",
      "\n",
      "[[19 22]\n",
      " [43 50]] \n",
      "\n",
      "[[19 22]\n",
      " [43 50]]\n"
     ]
    }
   ],
   "source": [
    "x = np.array([[1,2], [3,4]])\n",
    "y = np.array([[5,6], [7,8]])\n",
    "\n",
    "v = np.array([9,10])\n",
    "w = np.array([11,12])\n",
    "\n",
    "# inner product of vectors\n",
    "print(v.dot(w), '\\n')\n",
    "print(np.dot(v, w), '\\n')\n",
    "\n",
    "# Matrix/vector product\n",
    "print(x.dot(v) ,'\\n')\n",
    "print(np.dot(x, v), '\\n')\n",
    "\n",
    "# Matrix/matrix product\n",
    "print(x.dot(y), '\\n')\n",
    "print(np.dot(x, y))\n"
   ]
  },
  {
   "cell_type": "markdown",
   "metadata": {},
   "source": [
    "Numpy provides many funtions for performing computations on arrays; one of the most useful us **sum**"
   ]
  },
  {
   "cell_type": "code",
   "execution_count": 11,
   "metadata": {},
   "outputs": [
    {
     "name": "stdout",
     "output_type": "stream",
     "text": [
      "10\n",
      "[4 6]\n",
      "[3 7]\n"
     ]
    }
   ],
   "source": [
    "# compute sum of all elements\n",
    "print(np.sum(x))\n",
    "\n",
    "# compute sum of each column\n",
    "print(np.sum(x, axis=0))\n",
    "\n",
    "# compute sum of each row\n",
    "print(np.sum(x, axis=1))"
   ]
  },
  {
   "cell_type": "markdown",
   "metadata": {},
   "source": [
    "Data in arrays can be reshaped and manipulated in many ways. The simplest of this type of operation is transpose of a matrix (simply use the **T** attribute of the array object."
   ]
  },
  {
   "cell_type": "code",
   "execution_count": 12,
   "metadata": {},
   "outputs": [
    {
     "name": "stdout",
     "output_type": "stream",
     "text": [
      "[[1 2]\n",
      " [3 4]] \n",
      "\n",
      "[[1 3]\n",
      " [2 4]] \n",
      "\n",
      "[1 2 3] \n",
      "\n",
      "[1 2 3]\n"
     ]
    }
   ],
   "source": [
    "print(x, '\\n')\n",
    "print(x.T, '\\n')\n",
    "\n",
    "# taking transpose of a rank 1 matrix does nothing\n",
    "v = np.array([1,2,3])\n",
    "print(v, '\\n')\n",
    "print(v.T)"
   ]
  },
  {
   "cell_type": "markdown",
   "metadata": {},
   "source": [
    "## Broadcasting \n",
    "***\n",
    "Broadcasting is a powerful mechanism that allows numpy to work with arrays of different shapes when performing airthmetic operations. Frequently we have a smaller array and a larger array and we want to use smaller array multiple times to perform some operation on the larger array.\n",
    "\n",
    "eg: Suppose we want to add a constant vector to each row of a matrix:"
   ]
  },
  {
   "cell_type": "code",
   "execution_count": 13,
   "metadata": {},
   "outputs": [
    {
     "name": "stdout",
     "output_type": "stream",
     "text": [
      "[[ 2  2  4]\n",
      " [ 5  5  7]\n",
      " [ 8  8 10]\n",
      " [11 11 13]]\n"
     ]
    }
   ],
   "source": [
    "# we will add vector y to each row of matrix x ; storing the result in the matrix y\n",
    "x = np.array([[1,2,3], [4,5,6], [7,8,9], [10,11,12]])\n",
    "v = np.array([1,0,1])\n",
    "\n",
    "# create a matrix y with the same shape as x\n",
    "y = np.empty_like(x)\n",
    "\n",
    "# add vector v to each row of matrix x with an explicit loop\n",
    "for i in range(4):\n",
    "    y[i, :] = x[i, :] + v\n",
    "    \n",
    "print(y)"
   ]
  },
  {
   "cell_type": "markdown",
   "metadata": {},
   "source": [
    "However when the matrix **`x`** is very large, computing an external loop in python could be slow.\n",
    "Note that adding vector **`v`** to each row of the matrix **`x`** is equivalent to forming a matrix **`vv`** by stacking multiple copies of **`v`** vertically , then performing elementwise summation of **`x`** and **`vv`**. This approach can be implemented as:"
   ]
  },
  {
   "cell_type": "code",
   "execution_count": 17,
   "metadata": {},
   "outputs": [
    {
     "name": "stdout",
     "output_type": "stream",
     "text": [
      "[[1 0 1]\n",
      " [1 0 1]\n",
      " [1 0 1]\n",
      " [1 0 1]] \n",
      "\n",
      "[[ 2  2  4]\n",
      " [ 5  5  7]\n",
      " [ 8  8 10]\n",
      " [11 11 13]]\n"
     ]
    }
   ],
   "source": [
    "# stack 4 copies of v on top of each other\n",
    "vv = np.tile(v, (4,1))\n",
    "print(vv, '\\n')\n",
    "\n",
    "y = x + vv\n",
    "\n",
    "print(y)"
   ]
  },
  {
   "cell_type": "markdown",
   "metadata": {},
   "source": [
    "Numpy broadcasting allows us to do this computation without actually creating multiple copies of **v**.\n",
    "Using broadcasting:"
   ]
  },
  {
   "cell_type": "code",
   "execution_count": 15,
   "metadata": {},
   "outputs": [
    {
     "name": "stdout",
     "output_type": "stream",
     "text": [
      "[[ 2  2  4]\n",
      " [ 5  5  7]\n",
      " [ 8  8 10]\n",
      " [11 11 13]]\n"
     ]
    }
   ],
   "source": [
    "# add v to each row of x using broadcasting\n",
    "y = x + v\n",
    "print(y)"
   ]
  },
  {
   "cell_type": "markdown",
   "metadata": {},
   "source": [
    "The line `y = x + v` works even though x has shape (4,3) and v has shape (3,) due to bradcasting;\n",
    "this line works as if v has actually had shape (4,3) where each row was a copy of v and the sum was perfomed elementwise.\n",
    "\n",
    "Broadcasting two arrays follows these rules:\n",
    "\n",
    "1. If the arrays do not have the same rank, prepend the shape of the lower rank array with 1s until both shapes have the same length.\n",
    "2. Two arrays are said to be _compatible_ in a dimension if they have the same size in the dimension, or if one of the arrays has size 1 in that dimension.\n",
    "3. The arrays can be broadcast together if they are compatible in all dimensions.\n",
    "4. After broadcasting, each array behaves as it had a shape equal to the elementwise maximum of shapes of the input arrays.\n",
    "5. In any dimension where one array had size 1 and the other array had size greater than 1, the first array behaves as if it were copied along that dimension\n",
    "\n",
    "Functions that support broadcasting are known as _universal functions_.\n",
    "\n",
    "Some important applications of broadcasting are:"
   ]
  },
  {
   "cell_type": "code",
   "execution_count": 24,
   "metadata": {},
   "outputs": [
    {
     "name": "stdout",
     "output_type": "stream",
     "text": [
      "[[ 4  5]\n",
      " [ 8 10]\n",
      " [12 15]] \n",
      "\n",
      "[[2 4 6]\n",
      " [5 7 9]] \n",
      "\n",
      "[[ 5  6  7]\n",
      " [ 9 10 11]] \n",
      "\n",
      "[[ 5  6  7]\n",
      " [ 9 10 11]] \n",
      "\n",
      "[[ 2  4  6]\n",
      " [ 8 10 12]]\n"
     ]
    }
   ],
   "source": [
    "# compute outer product of vectors\n",
    "v = np.array([1,2,3])\n",
    "w = np.array([4,5])\n",
    "# to compute outer product we first reshape v to be a column vector of shape (3,1); we then broadcast it against w\n",
    "# to yield an output of shape (3,2), which is the outer product of v and w.\n",
    "print(np.reshape(v, (3,1))*w, '\\n')\n",
    "\n",
    "# add a vector to each row of a matrix\n",
    "x = np.array([[1,2,3],[4,5,6]])\n",
    "# x has shape (2,3) and v has shape (3,) so they brodcast to (2,3)\n",
    "print(x + v, '\\n')\n",
    "\n",
    "# add a vector to each column of a matrix\n",
    "# x has shape (2,3) and w has shape (2,).\n",
    "# if we transpose x then it has shape (3,2) and can be broadcast against w to yield a result of shape (3,2).\n",
    "# transposing this matrix yields a result of (2,3) which is the matrix x with the vector w added to each column.\n",
    "print((x.T + w).T, '\\n')\n",
    "\n",
    "# another solution is to reshape w to be a column vector of shape (2,1). We can broadcast it directly against x to \n",
    "# yield the same result\n",
    "print(x + np.reshape(w,(2,1)), '\\n')\n",
    "\n",
    "# Multiply a matrix by a constant:\n",
    "# x has shape (2,3), numpy treats scalars as arrays of shape ();\n",
    "# these can broadcast together to shape (2,3)\n",
    "print(x*2)"
   ]
  },
  {
   "cell_type": "markdown",
   "metadata": {},
   "source": [
    "Broadcasting typically makes code more consise and faster."
   ]
  }
 ],
 "metadata": {
  "kernelspec": {
   "display_name": "Python 3",
   "language": "python",
   "name": "python3"
  },
  "language_info": {
   "codemirror_mode": {
    "name": "ipython",
    "version": 3
   },
   "file_extension": ".py",
   "mimetype": "text/x-python",
   "name": "python",
   "nbconvert_exporter": "python",
   "pygments_lexer": "ipython3",
   "version": "3.5.2"
  }
 },
 "nbformat": 4,
 "nbformat_minor": 2
}
