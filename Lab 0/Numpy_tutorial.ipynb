{
 "cells": [
  {
   "cell_type": "markdown",
   "metadata": {},
   "source": [
    "# NUMPY\n",
    "***\n",
    "[Numpy](http://www.numpy.org/) is the core library for scientific computing in Python. It provides a high-performance multidimensional array object, and tools for working with these objects."
   ]
  },
  {
   "cell_type": "markdown",
   "metadata": {},
   "source": [
    "## ARRAYS\n",
    "***\n",
    "A numpy array is a grid of values, all of the same type, and is indexed by a tuple of non-negative values. The number of dimensions is the _rank_ of the array; the _shape_ of an array is a tuple of integers giving the size of array along each dimension.\n",
    "\n",
    "We can initialize numpy arrays from nested Python lists and access elements using square brackets:"
   ]
  },
  {
   "cell_type": "code",
   "execution_count": 10,
   "metadata": {},
   "outputs": [
    {
     "name": "stdout",
     "output_type": "stream",
     "text": [
      "<class 'numpy.ndarray'>\n",
      "(3,)\n",
      "1 2 3\n",
      "[1 2 3]\n",
      "<class 'numpy.ndarray'>\n",
      "(2, 3)\n",
      "[[1 2 3]\n",
      " [4 5 6]]\n"
     ]
    }
   ],
   "source": [
    "import numpy as np\n",
    "\n",
    "a = np.array([1,2,3])\n",
    "print(type(a))\n",
    "print(a.shape)\n",
    "print(a[0], a[1], a[2])\n",
    "print(a)\n",
    "\n",
    "b = np.array([[1,2,3],[4,5,6]])\n",
    "print(type(b))\n",
    "print(b.shape)\n",
    "# print(b[0,0], b[0,1], b[1,0])\n",
    "print(b)"
   ]
  },
  {
   "cell_type": "markdown",
   "metadata": {},
   "source": [
    "numpy also provides many functions to create arrays:"
   ]
  },
  {
   "cell_type": "code",
   "execution_count": 77,
   "metadata": {},
   "outputs": [
    {
     "name": "stdout",
     "output_type": "stream",
     "text": [
      "[[ 0.  0.]\n",
      " [ 0.  0.]]\n",
      "------------------------------\n",
      "[[ 1.  1.]]\n",
      "------------------------------\n",
      "[[7 7]\n",
      " [7 7]]\n",
      "------------------------------\n",
      "[[ 1.  0.  0.]\n",
      " [ 0.  1.  0.]\n",
      " [ 0.  0.  1.]]\n",
      "------------------------------\n",
      "[[ 0.21408557  0.86463379]\n",
      " [ 0.68451536  0.52319853]]\n",
      "------------------------------\n"
     ]
    }
   ],
   "source": [
    "# create an array of all zeros\n",
    "c = np.zeros((2,2))\n",
    "print(c, end='\\n------------------------------\\n')\n",
    "\n",
    "# create an array of all ones\n",
    "d = np.ones((1,2))\n",
    "print(d, end='\\n------------------------------\\n')\n",
    "\n",
    "# create a constant array\n",
    "e = np.full((2,2),7, np.int) #providing dtype to supress future warning\n",
    "print(e, end='\\n------------------------------\\n')\n",
    "\n",
    "# create a 3x3 identity matrix\n",
    "f = np.eye(3,3)\n",
    "print(f, end='\\n------------------------------\\n')\n",
    "\n",
    "# create an array filled with random values\n",
    "g = np.random.random((2,2))\n",
    "print(g, end='\\n------------------------------\\n')"
   ]
  },
  {
   "cell_type": "markdown",
   "metadata": {},
   "source": [
    "## Array Indexing\n",
    "***\n",
    "\n",
    "Numpy offers several ways to index into arrays.\n",
    "\n",
    "**Slicing**: Similar to Python lists, numpy arrays can be sliced. Since arrays are multidimensional, you must specify a slice for each dimension of the array:"
   ]
  },
  {
   "cell_type": "code",
   "execution_count": 88,
   "metadata": {},
   "outputs": [
    {
     "name": "stdout",
     "output_type": "stream",
     "text": [
      "[[2 3]\n",
      " [6 7]]\n",
      "------------------------------\n",
      "2\n",
      "------------------------------\n",
      "77\n",
      "------------------------------\n"
     ]
    }
   ],
   "source": [
    "# create a 2-dimensional array with shape(3,4)\n",
    "a = np.array([[1,2,3,4], [5,6,7,8], [9,10,11,12]])\n",
    "\n",
    "# use slicing to pull out sub-array consisting of first two rows\n",
    "# and columns one and two\n",
    "# b is an array of shape(2,2)\n",
    "b = a[:2, 1:3]\n",
    "print(b, end='\\n------------------------------\\n')\n",
    "\n",
    "# a slice of an array is a view into the same data\n",
    "# modifying it will modify the original array\n",
    "print(a[0,1], end='\\n------------------------------\\n')\n",
    "b[0,0] = 77\n",
    "print(a[0,1], end='\\n------------------------------\\n')"
   ]
  },
  {
   "cell_type": "code",
   "execution_count": null,
   "metadata": {
    "collapsed": true
   },
   "outputs": [],
   "source": []
  }
 ],
 "metadata": {
  "kernelspec": {
   "display_name": "Python 3",
   "language": "python",
   "name": "python3"
  },
  "language_info": {
   "codemirror_mode": {
    "name": "ipython",
    "version": 3
   },
   "file_extension": ".py",
   "mimetype": "text/x-python",
   "name": "python",
   "nbconvert_exporter": "python",
   "pygments_lexer": "ipython3",
   "version": "3.5.2"
  }
 },
 "nbformat": 4,
 "nbformat_minor": 2
}
