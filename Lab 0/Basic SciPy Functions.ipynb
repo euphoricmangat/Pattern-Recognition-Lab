{
 "cells": [
  {
   "cell_type": "markdown",
   "metadata": {},
   "source": [
    "# SciPy\n",
    "***\n",
    "Numpy provides a high-perfprmance multidimensional array and basic tools to compute with and manipulate these arrays. SciPy builds on this and provides a large number of functions that operate on numpy arrays and are useful for different types of scientific and engineering applications.\n",
    "\n",
    "Sompe important basic parts are described below:\n",
    "\n",
    "## Image operations\n",
    "***\n",
    "Scipy provides some basic functions to work with images. For example, it has functions to read images from disk as numpy arrays, to write numpy arrays to disks as images and to resize images.\n",
    "\n",
    "Example to showcase these functions can be given as:"
   ]
  },
  {
   "cell_type": "code",
   "execution_count": 1,
   "metadata": {},
   "outputs": [
    {
     "name": "stdout",
     "output_type": "stream",
     "text": [
      "uint8 (1200, 1920, 3)\n"
     ]
    }
   ],
   "source": [
    "from scipy.misc import imread, imsave, imresize\n",
    "\n",
    "# Read an image into a numpy array\n",
    "img = imread('./images/bajrangbali')\n",
    "print(img.dtype, img.shape)\n",
    "\n",
    "# we can tint the image by by scaling each of the color channels by a different scalar constant.\n",
    "# the image has shape (1200, 1920, 3); we multiply it by the array [1, 0.95, 0.9] of shape (3,);\n",
    "# numpy broadcasting means that it leaves the red channel unchanged and multiplies the green and blue channel by\n",
    "# 0.95 and 0.9 respectively\n",
    "img_tinted = img*[1, 0.95, 0.9]\n",
    "\n",
    "# resize the tinted image to be 300 by 300 pixels\n",
    "img_tinted = imresize(img_tinted, (300,300))\n",
    "\n",
    "# write the tinted image back to disc\n",
    "imsave('./images/bajrangbali_tinted.jpg', img_tinted)"
   ]
  },
  {
   "cell_type": "markdown",
   "metadata": {},
   "source": [
    "### Original image:\n",
    "***\n",
    "![screenshot](./images/bajrangbali)\n",
    "***\n",
    "### Tinted and Resized:\n",
    "***\n",
    "![screenshot2](./images/bajrangbali_tinted.jpg)\n",
    "***"
   ]
  },
  {
   "cell_type": "markdown",
   "metadata": {},
   "source": [
    "## Matlab Files:\n",
    "\n",
    "The functions **scipy.io.loadmat** and **scipy.io.savemat** allow us to read and write MATLAB files. More can be read in the [documentation](http://docs.scipy.org/doc/scipy/reference/io.html)"
   ]
  },
  {
   "cell_type": "markdown",
   "metadata": {},
   "source": [
    "## Distance between points:\n",
    "***\n",
    "SciPy defines some useful functions for computing distances between set of points.\n",
    "\n",
    "The function **scipy.spatial.distance.pdist** computes the distance between all pairs of points in a given set:"
   ]
  },
  {
   "cell_type": "code",
   "execution_count": 2,
   "metadata": {},
   "outputs": [
    {
     "name": "stdout",
     "output_type": "stream",
     "text": [
      "[[0 1]\n",
      " [1 0]\n",
      " [2 0]]\n",
      "[[ 0.          1.41421356  2.23606798]\n",
      " [ 1.41421356  0.          1.        ]\n",
      " [ 2.23606798  1.          0.        ]]\n"
     ]
    }
   ],
   "source": [
    "import numpy as np\n",
    "from scipy.spatial.distance import pdist, squareform\n",
    "\n",
    "# create an array where each row is a point in 2D space:\n",
    "x = np.array([[0,1], [1,0], [2,0]])\n",
    "print(x)\n",
    "\n",
    "# compute euclidean distance between all rows of x.\n",
    "d = squareform(pdist(x, 'euclidean'))\n",
    "print(d)"
   ]
  },
  {
   "cell_type": "markdown",
   "metadata": {},
   "source": [
    "A similar function **scipy.spatial.distance.cdist** computes the distance between all pairs across two sets of points. "
   ]
  }
 ],
 "metadata": {
  "kernelspec": {
   "display_name": "Python 3",
   "language": "python",
   "name": "python3"
  },
  "language_info": {
   "codemirror_mode": {
    "name": "ipython",
    "version": 3
   },
   "file_extension": ".py",
   "mimetype": "text/x-python",
   "name": "python",
   "nbconvert_exporter": "python",
   "pygments_lexer": "ipython3",
   "version": "3.5.2"
  }
 },
 "nbformat": 4,
 "nbformat_minor": 2
}
