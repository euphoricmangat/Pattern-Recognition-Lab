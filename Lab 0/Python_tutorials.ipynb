{
 "cells": [
  {
   "cell_type": "code",
   "execution_count": 1,
   "metadata": {},
   "outputs": [
    {
     "name": "stdout",
     "output_type": "stream",
     "text": [
      "The Zen of Python, by Tim Peters\n",
      "\n",
      "Beautiful is better than ugly.\n",
      "Explicit is better than implicit.\n",
      "Simple is better than complex.\n",
      "Complex is better than complicated.\n",
      "Flat is better than nested.\n",
      "Sparse is better than dense.\n",
      "Readability counts.\n",
      "Special cases aren't special enough to break the rules.\n",
      "Although practicality beats purity.\n",
      "Errors should never pass silently.\n",
      "Unless explicitly silenced.\n",
      "In the face of ambiguity, refuse the temptation to guess.\n",
      "There should be one-- and preferably only one --obvious way to do it.\n",
      "Although that way may not be obvious at first unless you're Dutch.\n",
      "Now is better than never.\n",
      "Although never is often better than *right* now.\n",
      "If the implementation is hard to explain, it's a bad idea.\n",
      "If the implementation is easy to explain, it may be a good idea.\n",
      "Namespaces are one honking great idea -- let's do more of those!\n"
     ]
    }
   ],
   "source": [
    "import this"
   ]
  },
  {
   "cell_type": "code",
   "execution_count": 2,
   "metadata": {},
   "outputs": [
    {
     "name": "stdout",
     "output_type": "stream",
     "text": [
      "wassup mate\n"
     ]
    }
   ],
   "source": [
    "print ('wassup mate')"
   ]
  },
  {
   "cell_type": "code",
   "execution_count": 5,
   "metadata": {},
   "outputs": [
    {
     "name": "stdout",
     "output_type": "stream",
     "text": [
      "x is 7 and its type is <type 'int'>\n"
     ]
    }
   ],
   "source": [
    "x = 7\n",
    "print('x is {} and its type is {}'.format(x, type(x)))"
   ]
  },
  {
   "cell_type": "code",
   "execution_count": 7,
   "metadata": {},
   "outputs": [
    {
     "name": "stdout",
     "output_type": "stream",
     "text": [
      "x is 7 and its type is <type 'str'>\n"
     ]
    }
   ],
   "source": [
    "x = '7'\n",
    "print('x is {} and its type is {}'.format(x,type(x)))"
   ]
  },
  {
   "cell_type": "code",
   "execution_count": 8,
   "metadata": {},
   "outputs": [
    {
     "ename": "TypeError",
     "evalue": "unsupported operand type(s) for +: 'int' and 'str'",
     "output_type": "error",
     "traceback": [
      "\u001b[0;31m---------------------------------------------------------------------------\u001b[0m",
      "\u001b[0;31mTypeError\u001b[0m                                 Traceback (most recent call last)",
      "\u001b[0;32m<ipython-input-8-744a44b8b74e>\u001b[0m in \u001b[0;36m<module>\u001b[0;34m()\u001b[0m\n\u001b[1;32m      1\u001b[0m \u001b[0mx\u001b[0m \u001b[0;34m=\u001b[0m \u001b[0;36m7\u001b[0m\u001b[0;34m\u001b[0m\u001b[0m\n\u001b[1;32m      2\u001b[0m \u001b[0my\u001b[0m \u001b[0;34m=\u001b[0m \u001b[0;34m'7'\u001b[0m\u001b[0;34m\u001b[0m\u001b[0m\n\u001b[0;32m----> 3\u001b[0;31m \u001b[0mz\u001b[0m \u001b[0;34m=\u001b[0m \u001b[0mx\u001b[0m \u001b[0;34m+\u001b[0m \u001b[0my\u001b[0m\u001b[0;34m\u001b[0m\u001b[0m\n\u001b[0m",
      "\u001b[0;31mTypeError\u001b[0m: unsupported operand type(s) for +: 'int' and 'str'"
     ]
    }
   ],
   "source": [
    "x = 7\n",
    "y = '7'\n",
    "z = x + y"
   ]
  },
  {
   "cell_type": "markdown",
   "metadata": {},
   "source": [
    "Python has two numeric types \n",
    "1. int\n",
    "2. float"
   ]
  },
  {
   "cell_type": "code",
   "execution_count": 9,
   "metadata": {},
   "outputs": [
    {
     "name": "stdout",
     "output_type": "stream",
     "text": [
      "<type 'int'>\n",
      "<type 'float'>\n"
     ]
    }
   ],
   "source": [
    "print(type(7))\n",
    "\n",
    "print(type(7.0))"
   ]
  },
  {
   "cell_type": "code",
   "execution_count": 11,
   "metadata": {},
   "outputs": [
    {
     "name": "stdout",
     "output_type": "stream",
     "text": [
      "('integer addition', 8)\n",
      "('integer + float addition', 4.0)\n"
     ]
    }
   ],
   "source": [
    "# addition\n",
    "\n",
    "print('integer addition', 5+3)\n",
    "\n",
    "print('integer + float addition', 2+2.0)"
   ]
  },
  {
   "cell_type": "code",
   "execution_count": 12,
   "metadata": {},
   "outputs": [
    {
     "name": "stdout",
     "output_type": "stream",
     "text": [
      "('1 slash integer division', 2)\n",
      "('2 slash integer division', 2)\n",
      "('1 slash integer by float division', 2.0)\n"
     ]
    }
   ],
   "source": [
    "# division\n",
    "\n",
    "print('1 slash integer division', (4/2))\n",
    "\n",
    "print('2 slash integer division', (4//2))\n",
    "\n",
    "print('1 slash integer by float division', (4/2.0))"
   ]
  },
  {
   "cell_type": "code",
   "execution_count": 13,
   "metadata": {},
   "outputs": [
    {
     "name": "stdout",
     "output_type": "stream",
     "text": [
      "('1 slash integer division', 1)\n",
      "('2 slash integer by float division', 1.0)\n"
     ]
    }
   ],
   "source": [
    "print ('1 slash integer division', (4/3))\n",
    "\n",
    "print ('2 slash integer by float division',(4//3.0))"
   ]
  },
  {
   "cell_type": "code",
   "execution_count": 15,
   "metadata": {},
   "outputs": [
    {
     "name": "stdout",
     "output_type": "stream",
     "text": [
      "('integer multiplication', 12)\n",
      "('integer with float multiplication', 12.0)\n",
      "('integer mpower', 64)\n",
      "('integer with float power', 12.0)\n",
      "('integer with float power', 12.0)\n"
     ]
    }
   ],
   "source": [
    "# multiplication/power\n",
    "\n",
    "print('integer multiplication',(4*3))\n",
    "\n",
    "print('integer with float multiplication',(4.0*3))\n",
    "\n",
    "print('integer mpower',(4**3))\n",
    "\n",
    "print('float with integer power',(4.0*3))\n",
    "\n",
    "print('integer with float power',(4*3.0))\n"
   ]
  },
  {
   "cell_type": "code",
   "execution_count": 16,
   "metadata": {},
   "outputs": [
    {
     "name": "stdout",
     "output_type": "stream",
     "text": [
      "('7 divide by 3', 1)\n"
     ]
    }
   ],
   "source": [
    "# modulus\n",
    "\n",
    "print('7 divide by 3', 7%3)"
   ]
  },
  {
   "cell_type": "code",
   "execution_count": 22,
   "metadata": {},
   "outputs": [
    {
     "name": "stdout",
     "output_type": "stream",
     "text": [
      "<type 'bool'>\n",
      "('Is true equal 1?', True)\n",
      "('Is true equal 0?', False)\n",
      "('Is false equal 0?', True)\n",
      "True\n"
     ]
    }
   ],
   "source": [
    "# booleans\n",
    "\n",
    "print(type(True))\n",
    "\n",
    "print('Is true equal 1?', True==1)\n",
    "\n",
    "print('Is true equal 0?', True==0)\n",
    "\n",
    "print('Is false equal 0?', False==0)\n",
    "\n",
    "a = 3*6 > 15\n",
    "\n",
    "print(a)"
   ]
  },
  {
   "cell_type": "code",
   "execution_count": 23,
   "metadata": {},
   "outputs": [
    {
     "name": "stdout",
     "output_type": "stream",
     "text": [
      "('the type of one char', <type 'str'>)\n",
      "('the type of a long string', <type 'str'>)\n"
     ]
    }
   ],
   "source": [
    "# Strings\n",
    "\n",
    "print ('the type of one char', type('c'))\n",
    "\n",
    "print ('the type of a long string', type('a long string'))"
   ]
  },
  {
   "cell_type": "code",
   "execution_count": 24,
   "metadata": {},
   "outputs": [
    {
     "name": "stdout",
     "output_type": "stream",
     "text": [
      "([], 'is of type', <type 'list'>)\n",
      "(['a', 'b', 'c', 'd'], 'is of type', <type 'list'>)\n",
      "([2, 3, 5], 'is of type', <type 'list'>)\n",
      "[4, 5, 'seconds']\n"
     ]
    }
   ],
   "source": [
    "# Create a new list\n",
    "empty = []\n",
    "print (empty,'is of type', type(empty))\n",
    "\n",
    "letters = ['a', 'b', 'c', 'd']\n",
    "print (letters,'is of type', type(letters))\n",
    "\n",
    "numbers = [2, 3, 5]\n",
    "print (numbers,'is of type', type(numbers))\n",
    "\n",
    "# Lists can contain elements of different types\n",
    "mixed = [4, 5, \"seconds\"]\n",
    "print (mixed)"
   ]
  },
  {
   "cell_type": "code",
   "execution_count": 25,
   "metadata": {},
   "outputs": [
    {
     "name": "stdout",
     "output_type": "stream",
     "text": [
      "[2, 3, 5, 7]\n",
      "[2, 3, 5, 7, 11]\n"
     ]
    }
   ],
   "source": [
    "# Append elements to the end of a list\n",
    "numbers = [2, 3, 5]\n",
    "\n",
    "numbers.append(7)\n",
    "\n",
    "print (numbers)\n",
    "\n",
    "numbers.append(11)\n",
    "\n",
    "print (numbers)"
   ]
  },
  {
   "cell_type": "code",
   "execution_count": null,
   "metadata": {
    "collapsed": true
   },
   "outputs": [],
   "source": []
  }
 ],
 "metadata": {
  "kernelspec": {
   "display_name": "Python 2",
   "language": "python",
   "name": "python2"
  },
  "language_info": {
   "codemirror_mode": {
    "name": "ipython",
    "version": 2
   },
   "file_extension": ".py",
   "mimetype": "text/x-python",
   "name": "python",
   "nbconvert_exporter": "python",
   "pygments_lexer": "ipython2",
   "version": "2.7.12"
  }
 },
 "nbformat": 4,
 "nbformat_minor": 2
}
